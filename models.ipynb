{
 "cells": [
  {
   "cell_type": "code",
   "execution_count": null,
   "metadata": {},
   "outputs": [],
   "source": [
    "#importing necessary libraries\n",
    "import pandas as pd\n",
    "import numpy as np\n",
    "import sklearn\n",
    "from sklearn import tree\n",
    "from sklearn.model_selection import train_test_split\n",
    "from sklearn.metrics import accuracy_score,f1_score,recall_score,precision_score\n",
    "import matplotlib.pyplot as plt\n",
    "import seaborn as sns\n",
    "from sklearn.metrics import classification_report\n",
    "\n",
    "from sklearn.tree import DecisionTreeClassifier\n",
    "from sklearn.ensemble import RandomForestClassifier\n",
    "from sklearn.naive_bayes import GaussianNB\n",
    "from sklearn.ensemble import AdaBoostClassifier"
   ]
  },
  {
   "cell_type": "code",
   "execution_count": null,
   "metadata": {
    "vscode": {
     "languageId": "plaintext"
    }
   },
   "outputs": [],
   "source": [
    "The dataset looks like:\n",
    "\n",
    "\t       Timestamp\tCAN ID\tDLC\tX0\tX1\tX2\tX3\tX4\tX5\tX6\tX7\tFlag\tType\n",
    "0\t     1.478198e+09\t0316\t8\t05\t21\t68\t09\t21\t21\t00\t6f\tR\tNormal\n",
    "1\t     1.478198e+09\t018f\t8\tfe\t5b\t00\t00\t00\t3c\t00\t00\tR\tNormal\n",
    "2\t     1.478198e+09\t0260\t8\t19\t21\t22\t30\t08\t8e\t6d\t3a\tR\tNormal\n",
    "3\t     1.478198e+09\t02a0\t8\t64\t00\t9a\t1d\t97\t02\tbd\t00\tR\tNormal\n",
    "4\t     1.478198e+09\t0329\t8\t40\tbb\t7f\t14\t11\t20\t00\t14\tR\tNormal\n",
    "...\t...\t...\t...\t...\t...\t...\t...\t...\t...\t...\t...\t...\t...\n",
    "3665766\t 1.478201e+09\t018f\t8\tfe\t59\t00\t00\t00\t41\t00\t00\tR\tNormal\n",
    "3665767\t 1.478201e+09\t0260\t8\t18\t21\t21\t30\t08\t8f\t6d\t19\tR\tNormal\n",
    "3665768\t 1.478201e+09\t02a0\t8\t24\t00\t9a\t1d\t97\t02\tbd\t00\tR\tNormal\n",
    "3665769\t 1.478201e+09\t0329\t8\tdc\tb7\t7f\t14\t11\t20\t00\t14\tR\tNormal\n",
    "3665770\t 1.478201e+09\t0545\t8\td8\t00\t00\t8b\t00\t00\t00\t00\tR\tNormal\n",
    "\n",
    "This is the dataset for one of the four type of attacks.\n",
    "There are similar other three."
   ]
  },
  {
   "cell_type": "code",
   "execution_count": null,
   "metadata": {},
   "outputs": [],
   "source": [
    "# for using the drive we first mounted it.The dataset was downloaded from intenet\n",
    "DoS = pd.read_csv('/content/drive/MyDrive/DoS_dataset.csv', names = ['Timestamp','CAN ID', 'DLC', 'X0', 'X1', 'X2', 'X3', 'X4', 'X5', 'X6', 'X7', 'Flag'])\n",
    "DoS['Type'] = 'Normal'\n",
    "DoS.loc[DoS[\"Flag\"] == \"T\", \"Type\"] = 'DoS'\n",
    "DoS = DoS.dropna()"
   ]
  },
  {
   "cell_type": "code",
   "execution_count": null,
   "metadata": {},
   "outputs": [],
   "source": [
    "Fuzzy = pd.read_csv('/content/drive/MyDrive/Fuzzy_dataset.csv', names = ['Timestamp','CAN ID', 'DLC', 'X0', 'X1', 'X2', 'X3', 'X4', 'X5', 'X6', 'X7', 'Flag'])\n",
    "Fuzzy['Type'] = 'Normal'\n",
    "Fuzzy.loc[Fuzzy[\"Flag\"] == \"T\", \"Type\"] = 'Fuzzy'\n",
    "Fuzzy = Fuzzy.dropna()"
   ]
  },
  {
   "cell_type": "code",
   "execution_count": null,
   "metadata": {},
   "outputs": [],
   "source": [
    "RPM = pd.read_csv('/content/drive/MyDrive/RPM_dataset.csv', names = ['Timestamp','CAN ID', 'DLC', 'X0', 'X1', 'X2', 'X3', 'X4', 'X5', 'X6', 'X7', 'Flag'])\n",
    "RPM['Type'] = 'Normal'\n",
    "RPM.loc[RPM[\"Flag\"] == \"T\", \"Type\"] = 'RPM'\n",
    "RPM = RPM.dropna()"
   ]
  },
  {
   "cell_type": "code",
   "execution_count": null,
   "metadata": {},
   "outputs": [],
   "source": [
    "gear = pd.read_csv('/content/drive/MyDrive/gear_dataset.csv', names = ['Timestamp','CAN ID', 'DLC', 'X0', 'X1', 'X2', 'X3', 'X4', 'X5', 'X6', 'X7', 'Flag'])\n",
    "gear['Type'] = 'Normal'\n",
    "gear.loc[gear[\"Flag\"] == \"T\", \"Type\"] = 'gear'\n",
    "gear = gear.dropna()"
   ]
  },
  {
   "cell_type": "code",
   "execution_count": null,
   "metadata": {},
   "outputs": [],
   "source": [
    "#concatenating all the 4 dataframes into one dataframe\n",
    "frames = [DoS, Fuzzy, RPM, gear]\n",
    "df = pd.concat(frames, ignore_index=True)"
   ]
  },
  {
   "cell_type": "code",
   "execution_count": null,
   "metadata": {},
   "outputs": [],
   "source": [
    "#label encoding\n",
    "df['Type'] = df['Type'].map({'Normal':0, 'DoS':1, 'Fuzzy':2, 'RPM':3, 'gear':4})\n",
    "\n",
    "#Sampling 2 million data rows from concatenated dataset\n",
    "df_used, df_unused = train_test_split(df, train_size=0.125, stratify=df['Type'])\n",
    "df['Type'].unique()"
   ]
  },
  {
   "cell_type": "code",
   "execution_count": null,
   "metadata": {},
   "outputs": [],
   "source": [
    "#Saving the dataset for further use\n",
    "df_used.to_csv('/content/drive/MyDrive/final_df.csv')"
   ]
  },
  {
   "cell_type": "code",
   "execution_count": null,
   "metadata": {},
   "outputs": [],
   "source": [
    "df = pd.read_csv('/content/drive/MyDrive/final_df.csv')\n",
    "df = df.drop(columns = ['Unnamed: 0'], axis = 0)"
   ]
  },
  {
   "cell_type": "code",
   "execution_count": null,
   "metadata": {},
   "outputs": [],
   "source": [
    "# Convert the timestamp column to a datetime object\n",
    "df.head(500)['Timestamp'] = pd.to_datetime(df.head(500)['Timestamp'], unit='s')\n",
    "\n",
    "# Create a separate plot for each X column\n",
    "fig, ax = plt.subplots(figsize=(9,6))\n",
    "colors = ['red', 'blue', 'green', 'orange','black']\n",
    "\n",
    "for i, typ in enumerate(df.head(500)['Type'].unique()):\n",
    "    df_type = df.head(500)[df.head(500)['Type']==typ]\n",
    "    ax.scatter(df_type['Timestamp'], df_type['Type'], label=typ, alpha=0.6, s=40, color=colors[i % len(colors)])\n",
    "\n",
    "ax.set_title('Type over time')\n",
    "ax.set_xlabel('Timestamp')\n",
    "ax.set_ylabel('Type')\n",
    "ax.legend(loc='upper left')\n",
    "plt.style.use('ggplot')\n",
    "plt.show()"
   ]
  },
  {
   "cell_type": "code",
   "execution_count": null,
   "metadata": {},
   "outputs": [],
   "source": [
    "#Dropping columns\n",
    "df = df.drop(['Timestamp', 'CAN ID', 'DLC', 'Flag'], axis=1)\n",
    "\n",
    "#Defining feature set and output set\n",
    "X = df.drop(['Type'], axis=1)\n",
    "y = df['Type']"
   ]
  },
  {
   "cell_type": "code",
   "execution_count": null,
   "metadata": {},
   "outputs": [],
   "source": [
    "#Label encoding the byte data\n",
    "for i in X:\n",
    "  le = sklearn.preprocessing.LabelEncoder()\n",
    "  X[i] = le.fit_transform(X[i])"
   ]
  },
  {
   "cell_type": "code",
   "execution_count": null,
   "metadata": {
    "vscode": {
     "languageId": "plaintext"
    }
   },
   "outputs": [],
   "source": [
    "The dataset after processing looks like:\n",
    "\n",
    "\n",
    "        X0\t X1\t X2\t X3\t X4\t X5\t X6\t X7\n",
    "0\t 0\t 0\t 0\t 0\t 0\t 4\t 7\t 116\n",
    "1\t 0\t 32\t 0\t 0\t 0\t 0\t 0\t 0\n",
    "2\t 128     138     0\t 0\t 34\t 0\t 0\t 0\n",
    "3\t 5\t 32\t 180     104     113     0\t 0\t 136\n",
    "4\t 0\t 0\t 0\t 0\t 0\t 8\t 4\t 36\n",
    "...\t ...\t...\t...\t...\t...\t...\t...\t...\n",
    "2046096\t 18\t 128     0\t 255     249     127     5\t 229\n",
    "2046097\t 1\t 69\t 96\t 255     107     0\t 0\t 0\n",
    "2046098\t 247     127     0\t 0\t 46\t 127     13\t 180\n",
    "2046099\t 0\t 0\t 0\t 128     0\t 104     209     19\n",
    "2046100\t 5\t 32\t 52\t 104     117     0\t 0\t 12"
   ]
  },
  {
   "cell_type": "code",
   "execution_count": null,
   "metadata": {},
   "outputs": [],
   "source": [
    "#Splitting the data into test and train\n",
    "X_train, X_test, y_train, y_test = train_test_split(X, y, test_size=0.2, stratify=y, random_state=42)"
   ]
  },
  {
   "cell_type": "code",
   "execution_count": null,
   "metadata": {},
   "outputs": [],
   "source": [
    "#Label encoding the df\n",
    "for i in df:\n",
    "  le = sklearn.preprocessing.LabelEncoder()\n",
    "  df[i] = le.fit_transform(df[i])"
   ]
  },
  {
   "cell_type": "code",
   "execution_count": null,
   "metadata": {},
   "outputs": [],
   "source": [
    "sns.heatmap(df.corr(), annot=True)"
   ]
  },
  {
   "cell_type": "code",
   "execution_count": null,
   "metadata": {
    "vscode": {
     "languageId": "plaintext"
    }
   },
   "outputs": [],
   "source": [
    "The models start from here."
   ]
  },
  {
   "cell_type": "code",
   "execution_count": null,
   "metadata": {},
   "outputs": [],
   "source": [
    "#Instantiate DTC model\n",
    "dtc = DecisionTreeClassifier(max_depth=11)\n",
    "\n",
    "#Fit the model\n",
    "dtc.fit(X_train, y_train)\n",
    "\n",
    "#Predict\n",
    "dtc_pred = dtc.predict(X_test)\n",
    "dtc_score = accuracy_score(y_test, dtc_pred)\n",
    "\n",
    "print(\"Decision tree classifier accuracy is\", dtc_score)\n",
    "print(classification_report(y_test, dtc_pred))\n",
    "#plot the decision tree\n",
    "fn = ['X0','X1','X2','X3','X4','X5','X6','X7']\n",
    "cn = ['Normal', 'DoS', 'Fuzzy', 'RPM', 'gear']\n",
    "fig = plt.figure(figsize=(160,90))\n",
    "tree.plot_tree(dtc, feature_names=fn, class_names = cn, filled=True)"
   ]
  },
  {
   "cell_type": "code",
   "execution_count": null,
   "metadata": {},
   "outputs": [],
   "source": [
    "rfc=RandomForestClassifier(random_state=42,n_estimators=20,max_depth=11)\n",
    "rfc.fit(X_train, y_train)\n",
    "rtf_y_pred = rfc.predict(X_test)\n",
    "rtf_score = accuracy_score(y_test, rtf_y_pred)\n",
    "print(\"Accuracy of optimized random forest classifier\", rtf_score)\n",
    "print(\"Classification report - random forest classifier\",classification_report(y_test, rtf_y_pred))"
   ]
  },
  {
   "cell_type": "code",
   "execution_count": null,
   "metadata": {},
   "outputs": [],
   "source": [
    "clf = GaussianNB()\n",
    "clf.fit(X_train, y_train)\n",
    "y = clf.predict(X_test)\n",
    "gnb_score = accuracy_score(y,y_test)\n",
    "print(\"Accuracy of base Gaussian NB Classifier:\", gnb_score)\n",
    "print(\"Classification Report - Gaussian NB Classifier:\", classification_report(y,y_test))"
   ]
  },
  {
   "cell_type": "code",
   "execution_count": null,
   "metadata": {},
   "outputs": [],
   "source": [
    "clf = AdaBoostClassifier(n_estimators=20, random_state=0)\n",
    "clf.fit(X_train, y_train)\n",
    "pred = clf.predict(X_test)\n",
    "adb_score = accuracy_score(y_test, pred)\n",
    "print(\"Accuracy score of AdaBoost Classifier is\",adb_score)\n",
    "print(\"Classification Report - AdaBoost Classifier is\",classification_report(y_test, pred))"
   ]
  },
  {
   "cell_type": "code",
   "execution_count": null,
   "metadata": {},
   "outputs": [],
   "source": [
    "# Comparative visualisation of the model accuracies\n",
    "model_scores = [dtc_score, rtf_score, gnb_score, adb_score]\n",
    "x_axis = ['DecisionTree', 'RandomForest', 'Gaussian', 'AdaBoost']\n",
    "plt.plot(x_axis, model_scores)\n",
    "plt.title('Model Scores')\n",
    "plt.xlabel(\"Models\")\n",
    "plt.ylabel(\"Accuracy\")"
   ]
  }
 ],
 "metadata": {
  "language_info": {
   "name": "python"
  },
  "orig_nbformat": 4
 },
 "nbformat": 4,
 "nbformat_minor": 2
}
